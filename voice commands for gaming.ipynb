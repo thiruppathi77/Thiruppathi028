{
 "cells": [
  {
   "cell_type": "code",
   "execution_count": 1,
   "id": "f679494f-53d5-4aa1-ad03-7b6e4d8be8d2",
   "metadata": {},
   "outputs": [
    {
     "name": "stdout",
     "output_type": "stream",
     "text": [
      "Requirement already satisfied: speechrecognition in c:\\users\\pradh\\anaconda3\\lib\\site-packages (3.14.2)\n",
      "Requirement already satisfied: pyaudio in c:\\users\\pradh\\anaconda3\\lib\\site-packages (0.2.14)\n",
      "Requirement already satisfied: typing-extensions in c:\\users\\pradh\\anaconda3\\lib\\site-packages (from speechrecognition) (4.11.0)\n",
      "Note: you may need to restart the kernel to use updated packages.\n"
     ]
    }
   ],
   "source": [
    "pip install speechrecognition pyaudio\n"
   ]
  },
  {
   "cell_type": "code",
   "execution_count": null,
   "id": "ae8e8bec-ee98-4363-9f57-6a9a8142ef50",
   "metadata": {},
   "outputs": [
    {
     "name": "stdout",
     "output_type": "stream",
     "text": [
      "Voice Command System for Gaming Started\n",
      "Listening for game command...\n",
      "Could not understand the audio.\n",
      "Listening for game command...\n",
      "Could not understand the audio.\n",
      "Listening for game command...\n",
      "Could not understand the audio.\n",
      "Listening for game command...\n",
      "Could not understand the audio.\n",
      "Listening for game command...\n",
      "Could not understand the audio.\n",
      "Listening for game command...\n",
      "Could not understand the audio.\n",
      "Listening for game command...\n",
      "Could not understand the audio.\n",
      "Listening for game command...\n",
      "Could not understand the audio.\n",
      "Listening for game command...\n",
      "Could not understand the audio.\n",
      "Listening for game command...\n"
     ]
    }
   ],
   "source": [
    "import speech_recognition as sr\n",
    "\n",
    "# Define voice commands mapping to game actions\n",
    "commands = {\n",
    "    \"jump\": \"Jumping...\",\n",
    "    \"run\": \"Running...\",\n",
    "    \"shoot\": \"Firing weapon...\",\n",
    "    \"pause\": \"Game paused.\",\n",
    "    \"quit\": \"Exiting game...\"\n",
    "}\n",
    "\n",
    "def recognize_command():\n",
    "    recognizer = sr.Recognizer()\n",
    "    with sr.Microphone() as source:\n",
    "        print(\"Listening for game command...\")\n",
    "\n",
    "        try:\n",
    "            recognizer.adjust_for_ambient_noise(source)\n",
    "            audio = recognizer.listen(source)\n",
    "            \n",
    "            # Convert speech to text\n",
    "            text = recognizer.recognize_google(audio).lower()\n",
    "            print(f\"Command Recognized: {text}\")\n",
    "\n",
    "            if text in commands:\n",
    "                print(commands[text])\n",
    "            else:\n",
    "                print(\"Unknown command. Try again.\")\n",
    "\n",
    "            return text\n",
    "\n",
    "        except sr.UnknownValueError:\n",
    "            print(\"Could not understand the audio.\")\n",
    "        except sr.RequestError:\n",
    "            print(\"Speech recognition service error.\")\n",
    "\n",
    "if __name__ == \"__main__\":\n",
    "    print(\"Voice Command System for Gaming Started\")\n",
    "    \n",
    "    while True:\n",
    "        command = recognize_command()\n",
    "        if command == \"quit\":\n",
    "            break\n",
    "            \n"
   ]
  },
  {
   "cell_type": "code",
   "execution_count": null,
   "id": "0094d1c2-9435-44ef-8959-c9d9e632e1ed",
   "metadata": {},
   "outputs": [],
   "source": []
  }
 ],
 "metadata": {
  "kernelspec": {
   "display_name": "Python 3 (ipykernel)",
   "language": "python",
   "name": "python3"
  },
  "language_info": {
   "codemirror_mode": {
    "name": "ipython",
    "version": 3
   },
   "file_extension": ".py",
   "mimetype": "text/x-python",
   "name": "python",
   "nbconvert_exporter": "python",
   "pygments_lexer": "ipython3",
   "version": "3.12.4"
  }
 },
 "nbformat": 4,
 "nbformat_minor": 5
}
