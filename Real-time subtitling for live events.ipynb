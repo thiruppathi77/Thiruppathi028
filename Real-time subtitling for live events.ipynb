{
 "cells": [
  {
   "cell_type": "code",
   "execution_count": 1,
   "id": "d6330ca1-e227-43bd-97a7-d8912e4196eb",
   "metadata": {},
   "outputs": [
    {
     "name": "stdout",
     "output_type": "stream",
     "text": [
      "Requirement already satisfied: speechrecognition in c:\\users\\pradh\\anaconda3\\lib\\site-packages (3.14.2)\n",
      "Requirement already satisfied: pyttsx3 in c:\\users\\pradh\\anaconda3\\lib\\site-packages (2.98)\n",
      "Requirement already satisfied: pyaudio in c:\\users\\pradh\\anaconda3\\lib\\site-packages (0.2.14)\n",
      "Requirement already satisfied: typing-extensions in c:\\users\\pradh\\anaconda3\\lib\\site-packages (from speechrecognition) (4.11.0)\n",
      "Requirement already satisfied: comtypes in c:\\users\\pradh\\anaconda3\\lib\\site-packages (from pyttsx3) (1.4.10)\n",
      "Requirement already satisfied: pypiwin32 in c:\\users\\pradh\\anaconda3\\lib\\site-packages (from pyttsx3) (223)\n",
      "Requirement already satisfied: pywin32 in c:\\users\\pradh\\anaconda3\\lib\\site-packages (from pyttsx3) (305.1)\n",
      "Note: you may need to restart the kernel to use updated packages.\n"
     ]
    }
   ],
   "source": [
    "pip install speechrecognition pyttsx3 pyaudio\n"
   ]
  },
  {
   "cell_type": "code",
   "execution_count": null,
   "id": "1cad2da9-ab8c-4953-aedf-07a4f9fe086f",
   "metadata": {},
   "outputs": [
    {
     "name": "stdout",
     "output_type": "stream",
     "text": [
      "Listening...\n",
      "Sorry, I couldn't understand.\n",
      "Listening...\n",
      "Sorry, I couldn't understand.\n",
      "Listening...\n",
      "Sorry, I couldn't understand.\n"
     ]
    }
   ],
   "source": [
    "import speech_recognition as sr\n",
    "import pyttsx3\n",
    "\n",
    "# Initialize the text-to-speech engine\n",
    "engine = pyttsx3.init()\n",
    "\n",
    "# Function to speak a message\n",
    "def speak(text):\n",
    "    engine.say(text)\n",
    "    engine.runAndWait()\n",
    "\n",
    "# Function to capture voice input\n",
    "def listen():\n",
    "    recognizer = sr.Recognizer()\n",
    "    with sr.Microphone() as source:\n",
    "        print(\"Listening...\")\n",
    "        speak(\"Please speak your note.\")\n",
    "        recognizer.adjust_for_ambient_noise(source)\n",
    "        audio = recognizer.listen(source)\n",
    "\n",
    "    try:\n",
    "        text = recognizer.recognize_google(audio)\n",
    "        print(\"You said:\", text)\n",
    "        return text\n",
    "    except sr.UnknownValueError:\n",
    "        print(\"Sorry, I couldn't understand.\")\n",
    "        speak(\"Sorry, I couldn't understand.\")\n",
    "        return None\n",
    "    except sr.RequestError:\n",
    "        print(\"There was an issue with the recognition service.\")\n",
    "        speak(\"There was an issue with the recognition service.\")\n",
    "        return None\n",
    "\n",
    "# Function to save notes\n",
    "def save_note(note):\n",
    "    if note:\n",
    "        with open(\"voice_notes.txt\", \"a\") as file:\n",
    "            file.write(note + \"\\n\")\n",
    "        speak(\"Your note has been saved.\")\n",
    "        print(\"Note saved successfully.\")\n",
    "\n",
    "# Main execution\n",
    "if __name__ == \"__main__\":\n",
    "    speak(\"Welcome to the Voice-Based Notes System.\")\n",
    "    while True:\n",
    "        speak(\"Would you like to create a new note? Say 'yes' or 'exit' to quit.\")\n",
    "        command = listen()\n",
    "        \n",
    "        if command and command.lower() == \"yes\":\n",
    "            note = listen()\n",
    "            save_note(note)\n",
    "        elif command and command.lower() == \"exit\":\n",
    "            speak(\"Goodbye!\")\n",
    "            break\n"
   ]
  },
  {
   "cell_type": "code",
   "execution_count": null,
   "id": "1dc591f8-bd78-4a4e-a59a-30ee68d541a7",
   "metadata": {},
   "outputs": [],
   "source": []
  }
 ],
 "metadata": {
  "kernelspec": {
   "display_name": "Python 3 (ipykernel)",
   "language": "python",
   "name": "python3"
  },
  "language_info": {
   "codemirror_mode": {
    "name": "ipython",
    "version": 3
   },
   "file_extension": ".py",
   "mimetype": "text/x-python",
   "name": "python",
   "nbconvert_exporter": "python",
   "pygments_lexer": "ipython3",
   "version": "3.12.4"
  }
 },
 "nbformat": 4,
 "nbformat_minor": 5
}
